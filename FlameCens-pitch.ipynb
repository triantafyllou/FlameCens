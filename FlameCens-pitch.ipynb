{
 "cells": [
  {
   "cell_type": "code",
   "execution_count": 1,
   "metadata": {},
   "outputs": [],
   "source": [
    "#--------Reading Titles And Files--------------\n",
    "title=\"Paganini - Caprice No.4 in Cm: Maestoso\"\n",
    "a='Michael Rabin'\n",
    "b='James Ehnes'\n",
    "file1='Paganini.wav'\n",
    "file2='ehnes.wav'\n",
    "tuning=0"
   ]
  },
  {
   "cell_type": "code",
   "execution_count": 2,
   "metadata": {},
   "outputs": [
    {
     "name": "stdout",
     "output_type": "stream",
     "text": [
      "pygame 1.9.6\n",
      "Hello from the pygame community. https://www.pygame.org/contribute.html\n"
     ]
    }
   ],
   "source": [
    "#------------importing modules------------\n",
    "import numpy as np\n",
    "import librosa \n",
    "import librosa.display\n",
    "import scipy\n",
    "import pygame, sys, random\n",
    "from pygame.locals import *\n",
    "import datetime\n",
    "from numba import jit\n",
    "import wave  \n",
    "import pyaudio\n",
    "import os"
   ]
  },
  {
   "cell_type": "code",
   "execution_count": 3,
   "metadata": {},
   "outputs": [],
   "source": [
    "def play_music(file):\n",
    "    pygame.init()\n",
    "    pygame.mixer.music.load(file)\n",
    "    pygame.mixer.music.play()"
   ]
  },
  {
   "cell_type": "code",
   "execution_count": 4,
   "metadata": {},
   "outputs": [],
   "source": [
    "def MIDItoWAV (song): \n",
    "    \n",
    "    file_name = os.path.splitext(os.path.basename(song))[0]\n",
    "    new_file = file_name + '.wav'\n",
    "    \n",
    "    print(\"Playing \")\n",
    "    play_music(song)\n",
    "        \n",
    "    frames = []\n",
    "        \n",
    "    # Record frames while the song is playing\n",
    "    while pygame.mixer.music.get_busy():\n",
    "        frames.append(stream.read(buffer))\n",
    "            \n",
    "    # Stop recording\n",
    "    stream.stop_stream()\n",
    "    stream.close()\n",
    "        \n",
    "    # Configure wave file settings\n",
    "    wave_file = wave.open(new_file, 'wb')\n",
    "    wave_file.setnchannels(channels)\n",
    "    wave_file.setsampwidth(audio.get_sample_size(format))\n",
    "    wave_file.setframerate(sample_rate)\n",
    "        \n",
    "    print(\"Saving \" + new_file)   \n",
    "     \n",
    "    # Write the frames to the wave file\n",
    "    wave_file.writeframes(b''.join(frames))\n",
    "    wave_file.close()\n",
    "\n",
    "    # End PyAudio    \n",
    "    audio.terminate()"
   ]
  },
  {
   "cell_type": "code",
   "execution_count": 5,
   "metadata": {},
   "outputs": [],
   "source": [
    "#---------converting MIDI to WAV----------------\n",
    "filetype = os.path.splitext(os.path.basename(file1))[1]\n",
    "\n",
    "if filetype==\".mid\":\n",
    "    sample_rate = 44100        \n",
    "    channels = 1                \n",
    "    buffer = 1024\n",
    "    pa = pyaudio.PyAudio()\n",
    "    x=pa.get_default_input_device_info()\n",
    "    input_device=x['index']\n",
    "    format = pyaudio.paInt16\n",
    "    audio = pyaudio.PyAudio()\n",
    "    stream = audio.open(format=format, channels=channels, rate=sample_rate, input=True, input_device_index=input_device,\n",
    "                    frames_per_buffer=buffer)\n",
    "    MIDItoWAV(file1)"
   ]
  },
  {
   "cell_type": "code",
   "execution_count": 6,
   "metadata": {},
   "outputs": [],
   "source": [
    "newfile = os.path.splitext(os.path.basename(file1))[0]\n",
    "file1=newfile+'.wav'"
   ]
  },
  {
   "cell_type": "code",
   "execution_count": 7,
   "metadata": {},
   "outputs": [],
   "source": [
    "#----------------Reading signals-----------------\n",
    "x1,fs1=librosa.load(file1)\n",
    "x2,fs2=librosa.load(file2)\n",
    "\n",
    "t1=np.arange(0,len(x1))/float(fs1)\n",
    "t2=np.arange(0,len(x2))/float(fs2)"
   ]
  },
  {
   "cell_type": "code",
   "execution_count": 8,
   "metadata": {},
   "outputs": [],
   "source": [
    "#-------------CENS Features - Normalized with Manhatann Norm-----------------------\n",
    "l=41\n",
    "chr1=librosa.feature.chroma_cens(y=x1,sr=fs1,norm=1,win_len_smooth=l)\n",
    "chr2=librosa.feature.chroma_cens(y=x2,sr=fs2,norm=1,tuning=tuning, win_len_smooth=l)"
   ]
  },
  {
   "cell_type": "code",
   "execution_count": 9,
   "metadata": {},
   "outputs": [],
   "source": [
    "#---------------Cost Matrix----------------------\n",
    "xt=np.transpose(chr1)\n",
    "yt=np.transpose(chr2)\n",
    "C = scipy.spatial.distance.cdist(yt,xt, 'cosine')"
   ]
  },
  {
   "cell_type": "code",
   "execution_count": 10,
   "metadata": {},
   "outputs": [],
   "source": [
    "#-------------------Accumulated Cost Matrix---------------------\n",
    "\n",
    "@jit(nopython=True)\n",
    "def compute_accumulated_cost_matrix(C):\n",
    "\n",
    "    N, M = C.shape\n",
    "    D = np.zeros((N, M))\n",
    "    D[:, 0] = np.cumsum(C[:, 0])\n",
    "    D[0, :] = np.cumsum(C[0, :])\n",
    "    for n in range(1, N):\n",
    "        for m in range(1, M):\n",
    "            D[n, m] = C[n, m] + min(D[n-1, m], D[n, m-1], D[n-1, m-1])\n",
    "    return D\n",
    "\n",
    "D =  compute_accumulated_cost_matrix(C)"
   ]
  },
  {
   "cell_type": "code",
   "execution_count": 11,
   "metadata": {},
   "outputs": [],
   "source": [
    "#--------------Wapring Path------------\n",
    "@jit(nopython=True)\n",
    "def compute_optimal_warping_path(D):\n",
    "\n",
    "    N, M = D.shape\n",
    "    n = N - 1\n",
    "    m = M - 1\n",
    "    P = [(n, m)]\n",
    "\n",
    "    while n > 0:\n",
    "        if m == 0:\n",
    "            cell = (n - 1, 0)\n",
    "        else:\n",
    "            val = min(D[n-1, m-1], D[n-1, m], D[n, m-1])\n",
    "            if val == D[n-1, m-1]:\n",
    "                cell = (n-1, m-1)\n",
    "            elif val == D[n-1, m]:\n",
    "                cell = (n-1, m)\n",
    "            else:\n",
    "                cell = (n, m-1)\n",
    "        P.append(cell)\n",
    "        n, m = cell\n",
    "    P.reverse()\n",
    "    return np.array(P)\n",
    "        \n",
    "path = compute_optimal_warping_path(D)"
   ]
  },
  {
   "cell_type": "code",
   "execution_count": 12,
   "metadata": {},
   "outputs": [],
   "source": [
    "#----------Warping Path in Time Domain-------------------------\n",
    "path_s = path * 512 / fs1 #512 is the hop size"
   ]
  },
  {
   "cell_type": "code",
   "execution_count": 13,
   "metadata": {},
   "outputs": [],
   "source": [
    "#---------------dynamics to db-------------------\n",
    "S1 = np.abs(librosa.stft(x1))\n",
    "S2 = np.abs(librosa.stft(x2))\n",
    "\n",
    "S1_mean=np.sum(S1,axis=0)\n",
    "S2_mean=np.sum(S2,axis=0)\n",
    "pref=max(np.max(S1),np.max(S2))\n",
    "S1db=librosa.amplitude_to_db(S1_mean,ref=pref)\n",
    "S2db=librosa.amplitude_to_db(S2_mean,ref=pref)"
   ]
  },
  {
   "cell_type": "code",
   "execution_count": 14,
   "metadata": {},
   "outputs": [],
   "source": [
    "#---------------Initializing logfile-------------------\n",
    "logfile=\"FlameCens_\"+file1+\"_\"+file2+\"_dev.csv\"\n",
    "f=open(logfile,\"w\")\n",
    "f.write(\"Time(sec),Tempo(sec),Dynamics(db)\\n\")\n",
    "f.close()"
   ]
  },
  {
   "cell_type": "code",
   "execution_count": 15,
   "metadata": {},
   "outputs": [],
   "source": [
    "#---------------mapping of temporal deviation and dynamics difference-----------------\n",
    "dev=[]\n",
    "db=[]\n",
    "f=open(logfile,\"a\")\n",
    "for i in range (1,len(path_s)):\n",
    "    if path_s[i-1,0] != path_s[i,0]:\n",
    "        time_diff=path_s[i-1,1]-path_s[i-1,0] #temporal deviation\n",
    "        dev.append(path_s[i-1,1]-path_s[i-1,0])\n",
    "        timing=np.round_(path_s[i-1,0],2)\n",
    "        indexs1=path[i-1,1]\n",
    "        indexs2=path[i-1,0]\n",
    "        db_diff=S2db[indexs2]-S1db[indexs1] #dynamics difference in db\n",
    "        db.append(db_diff)\n",
    "        f.write(\"%s,%s,%s\\n\" % (str(timing),str(np.round(time_diff,2)),str(np.round(db_diff,2))))\n",
    "        \n",
    "f.close()\n",
    "dev=np.asarray(dev)\n",
    "db=np.asarray(db)\n",
    "point=max(abs(dev))\n",
    "dev_norm=dev/point\n",
    "point=np.round(point,2)\n",
    "S=np.interp(db, (db.min(), db.max()), (0, +8))"
   ]
  },
  {
   "cell_type": "code",
   "execution_count": 16,
   "metadata": {},
   "outputs": [],
   "source": [
    "#-------------mapping pitch class---------------------\n",
    "note=np.argmax(chr2,axis=0)"
   ]
  },
  {
   "cell_type": "code",
   "execution_count": 17,
   "metadata": {},
   "outputs": [],
   "source": [
    "FPS = 60\n",
    "WINDOWWIDTH = 800\n",
    "WINDOWHEIGHT = 600\n",
    "FIRE_YELLOW = pygame.image.load('fire_yellow.png')\n",
    "linecolor=(255,0,0)"
   ]
  },
  {
   "cell_type": "code",
   "execution_count": 18,
   "metadata": {},
   "outputs": [],
   "source": [
    "def particles(S,fs,dev,dev_sec,point,namea,nameb,title,note):\n",
    "    global FPSCLOCK, DISPLAYSURF\n",
    "    pygame.init()\n",
    "    FPSCLOCK = pygame.time.Clock()  #time counter\n",
    "    DISPLAYSURF = pygame.display.set_mode((WINDOWWIDTH, WINDOWHEIGHT))\n",
    "    pygame.mouse.set_visible(0)\n",
    "\n",
    "    # particle_xysize Elements:\n",
    "    # Its a List of Lists, where particle_xysize[element][0,1,2,3,4,5,6..]\n",
    "    # 0=x\n",
    "    # 1=y\n",
    "    # 2=size(squared-same x,y size)\n",
    "    # 3,4=direction\n",
    "    # 5=type\n",
    "    # 6=dynamics aspect\n",
    "    # 7=color(RGB)\n",
    "    #8=influence\n",
    "    \n",
    "    particles = 720\n",
    "    particle_xysize = []\n",
    "    while particles > 0:\n",
    "        particle_xysize.append([0,0,0,0,0,0,0,(0,0,0),(0,0)])\n",
    "        particles -= 1\n",
    "\n",
    "    velocity = []\n",
    "    for particle in particle_xysize:\n",
    "        velocity.append(5)\n",
    "\n",
    "    init_x = 400\n",
    "    init_y = 600\n",
    "    pygame.mixer.music.load(file2)\n",
    "    pygame.mixer.music.play(0)\n",
    "    color2=(255,255,0)\n",
    "    colors=[(0,0,255),(0,255,255),(0,255,0),(0,128,0),(255,255,0),(255,105,180),(255,215,0),(255,165,0),\n",
    "        (128,0,0),(255,0,255),(75,0,130),(128,0,128)]\n",
    "    t=0\n",
    "    a = datetime.datetime.now()\n",
    "    while True:\n",
    "              \n",
    "        # Get Events of Game Loop\n",
    "        for event in pygame.event.get():\n",
    "            if event.type == QUIT or (event.type == KEYUP and event.key == K_ESCAPE):\n",
    "                pygame.mixer.music.stop()\n",
    "                pygame.quit()\n",
    "                sys.exit()\n",
    "                       \n",
    "        # Drawing Axis\n",
    "        DISPLAYSURF.fill((0, 0, 0))\n",
    "        pygame.draw.line(DISPLAYSURF,linecolor,(400,0),(400,600))\n",
    "        pygame.draw.line(DISPLAYSURF,linecolor,(0,300),(800,300))\n",
    "        pygame.draw.line(DISPLAYSURF,linecolor,(100,290),(100,310))\n",
    "        pygame.draw.line(DISPLAYSURF,linecolor,(175,295),(175,305))\n",
    "        pygame.draw.line(DISPLAYSURF,linecolor,(250,290),(250,310))\n",
    "        pygame.draw.line(DISPLAYSURF,linecolor,(325,295),(325,305))\n",
    "        pygame.draw.line(DISPLAYSURF,linecolor,(700,290),(700,310))\n",
    "        pygame.draw.line(DISPLAYSURF,linecolor,(625,295),(625,305))\n",
    "        pygame.draw.line(DISPLAYSURF,linecolor,(550,290),(550,310))\n",
    "        pygame.draw.line(DISPLAYSURF,linecolor,(475,295),(475,305))\n",
    "        \n",
    "        #Displaying Info\n",
    "        myFont = pygame.font.SysFont(\"Helvetica\", 20)\n",
    "        song_title=myFont.render(title, 1,color2)\n",
    "        label2=myFont.render(\"By : \", 1,linecolor)\n",
    "        label3=myFont.render(\"Compared to : \", 1,linecolor)\n",
    "        pianist = myFont.render(nameb, 1,color2)\n",
    "        compared = myFont.render(namea, 1,color2)\n",
    "        DISPLAYSURF.blit(song_title, (3, 3))\n",
    "        DISPLAYSURF.blit(label2, (3, 22))\n",
    "        DISPLAYSURF.blit(pianist, (35, 22))\n",
    "        DISPLAYSURF.blit(label3, (3, 42))\n",
    "        DISPLAYSURF.blit(compared, (112, 42))\n",
    "        \n",
    "        # Draw Elements\n",
    "        for element in range(len(particle_xysize)):\n",
    "            width = particle_xysize[element][2]\n",
    "            height = particle_xysize[element][2]\n",
    "            particle_x = particle_xysize[element][0]\n",
    "            particle_y = particle_xysize[element][1]\n",
    "            dynamics = particle_xysize[element][6]\n",
    "            influence = particle_xysize[element][8]\n",
    "            color = particle_xysize[element][7]\n",
    "            \n",
    "\n",
    "            particle_x += velocity[element]  * particle_xysize[element][4] * dynamics\n",
    "            particle_y += velocity[element]  * particle_xysize[element][3] * dynamics\n",
    "            \n",
    "    \n",
    "            if particle_xysize[element][5] == 0:\n",
    "                pygame.draw.ellipse(DISPLAYSURF, color, (particle_x - width , particle_y - height , width*2, height*2))\n",
    "            elif particle_xysize[element][5] == 1:\n",
    "                fire_yellow = pygame.transform.scale(FIRE_YELLOW, (int(width * 2), int(height * 2)))\n",
    "                DISPLAYSURF.blit(fire_yellow,[particle_x - width,particle_y - height])\n",
    "                \n",
    "\n",
    "            \n",
    "            if particle_xysize[element][2] > 0:\n",
    "                particle_xysize[element][2] -= 0.5\n",
    "                velocity[element] += 2\n",
    "            else:\n",
    "                while True:\n",
    "                    b = datetime.datetime.now()\n",
    "                    c = b - a\n",
    "                    t=c.total_seconds()\n",
    "                    \n",
    "                    #Displaying Time and Deviation\n",
    "                    randNumLabel = myFont.render(\"Time:(sec)\", 1, linecolor)\n",
    "                    timeDisplay = myFont.render(str(round(t,2)), 1,color2)\n",
    "                    DISPLAYSURF.blit(randNumLabel, (600, 3))\n",
    "                    DISPLAYSURF.blit(timeDisplay, (600, 23))\n",
    "                    idx=librosa.time_to_frames(t,sr=fs, hop_length=512)\n",
    "                    val=S[idx]\n",
    "                    pitch=note[idx]\n",
    "                    min_dev = myFont.render(str(-1*point), 1, color2)\n",
    "                    half=round(point/2)\n",
    "                    half_minus = myFont.render(str(-1*half), 1, color2)\n",
    "                    DISPLAYSURF.blit(min_dev, (75, 260))\n",
    "                    DISPLAYSURF.blit(half_minus, (230, 260))\n",
    "                    max_dev = myFont.render(str(point), 1, color2)\n",
    "                    half_plus = myFont.render(str(half), 1, color2)\n",
    "                    DISPLAYSURF.blit(max_dev, (680, 260))\n",
    "                    DISPLAYSURF.blit(half_plus, (535, 260))\n",
    "                    text3 = myFont.render(\"Deviation(sec)\", 1, color2)\n",
    "                    DISPLAYSURF.blit(text3, (5, 310))\n",
    "                    text1=myFont.render(\"Temporal Deviation (sec)\",1,linecolor)\n",
    "                    DISPLAYSURF.blit(text1, (600, 43))\n",
    "                    timeDev = myFont.render(str(round(dev_sec[idx-1],2)), 1,color2)\n",
    "                    DISPLAYSURF.blit(timeDev, (600, 63))\n",
    "                    \n",
    "                    if idx==(len(S)-1):\n",
    "                        pygame.mixer.music.stop()\n",
    "                        pygame.quit()\n",
    "                        sys.exit()\n",
    "                    \n",
    "                    particle_xysize[element][3] = -1\n",
    "                    particle_xysize[element][4] = dev[idx]\n",
    "                    particle_xysize[element][5] = 0\n",
    "                    particle_xysize[element][7] = colors[pitch]\n",
    "                    particle_xysize[element][6] = val\n",
    "                    particle_xysize[element][8] = (1,1)\n",
    "                    particle_xysize[element][2] = random.randint(1, 15)\n",
    "                    velocity[element] = 0\n",
    "                    particle_xysize[element][0], particle_xysize[element][1] = init_x, init_y\n",
    "                    break\n",
    "\n",
    "        pygame.display.update()\n",
    "        FPSCLOCK.tick(FPS)"
   ]
  },
  {
   "cell_type": "code",
   "execution_count": 19,
   "metadata": {
    "scrolled": true
   },
   "outputs": [
    {
     "ename": "SystemExit",
     "evalue": "",
     "output_type": "error",
     "traceback": [
      "An exception has occurred, use %tb to see the full traceback.\n",
      "\u001b[1;31mSystemExit\u001b[0m\n"
     ]
    },
    {
     "name": "stderr",
     "output_type": "stream",
     "text": [
      "C:\\ProgramData\\Anaconda3\\lib\\site-packages\\IPython\\core\\interactiveshell.py:3339: UserWarning: To exit: use 'exit', 'quit', or Ctrl-D.\n",
      "  warn(\"To exit: use 'exit', 'quit', or Ctrl-D.\", stacklevel=1)\n"
     ]
    }
   ],
   "source": [
    "particles(S,fs2,dev_norm,dev,point,a,b,title,note)"
   ]
  },
  {
   "cell_type": "code",
   "execution_count": null,
   "metadata": {},
   "outputs": [],
   "source": []
  },
  {
   "cell_type": "code",
   "execution_count": null,
   "metadata": {},
   "outputs": [],
   "source": []
  }
 ],
 "metadata": {
  "kernelspec": {
   "display_name": "Python 3",
   "language": "python",
   "name": "python3"
  },
  "language_info": {
   "codemirror_mode": {
    "name": "ipython",
    "version": 3
   },
   "file_extension": ".py",
   "mimetype": "text/x-python",
   "name": "python",
   "nbconvert_exporter": "python",
   "pygments_lexer": "ipython3",
   "version": "3.7.6"
  }
 },
 "nbformat": 4,
 "nbformat_minor": 2
}
